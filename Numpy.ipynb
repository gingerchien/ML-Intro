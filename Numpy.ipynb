{
  "nbformat": 4,
  "nbformat_minor": 0,
  "metadata": {
    "colab": {
      "provenance": [],
      "authorship_tag": "ABX9TyM2+U5MjEROAPNE9BeiI291",
      "include_colab_link": true
    },
    "kernelspec": {
      "name": "python3",
      "display_name": "Python 3"
    },
    "language_info": {
      "name": "python"
    }
  },
  "cells": [
    {
      "cell_type": "markdown",
      "metadata": {
        "id": "view-in-github",
        "colab_type": "text"
      },
      "source": [
        "<a href=\"https://colab.research.google.com/github/gingerchien/ML-Intro/blob/main/Numpy.ipynb\" target=\"_parent\"><img src=\"https://colab.research.google.com/assets/colab-badge.svg\" alt=\"Open In Colab\"/></a>"
      ]
    },
    {
      "cell_type": "markdown",
      "source": [
        "# Numpy Basics\n",
        "\n",
        "* NumPy gives us the best of both worlds: element-by-element operations are the “default mode” when an ndarray is involved, but the element-by-element operation is speedily executed by pre-compiled C code\n",
        "* Vectorization describes the absence of any explicit looping, indexing, etc., in the code - these things are taking place, of course, just “behind the scenes” in optimized, pre-compiled C code.\n",
        "* NumPy fully supports an object-oriented approach, starting, once again, with ndarray. For example, ndarray is a class, possessing numerous methods and attributes. Many of its methods are mirrored by functions in the outer-most NumPy namespace, allowing the programmer to code in whichever paradigm they prefer. This flexibility has allowed the NumPy array dialect and NumPy ndarray class to become the de-facto language of multi-dimensional data interchange used in Python.\n",
        "\n",
        "\n"
      ],
      "metadata": {
        "id": "wv7V4jzhO31K"
      }
    },
    {
      "cell_type": "markdown",
      "source": [
        "In NumPy dimensions are called axes.\n",
        "\n",
        "# Important Attributes of an ndarray object:\n",
        "\n",
        "* ndarray.ndim - the number of axes (dimensions) of the array.\n",
        "* ndarray.shape - the dimensions of the array. This is a tuple of integers indicating the size of the array in each dimension. For a matrix with n rows and m columns, shape will be (n,m). The length of the shape tuple is therefore the number of axes, ndim.\n",
        "* ndarray.size - the total number of elements of the array. This is equal to the product of the elements of shape\n",
        "* ndarray.dtype - an object describing the type of the elements in the array. One can create or specify dtype’s using standard Python types. Additionally NumPy provides types of its own. numpy.int32, numpy.int16, and numpy.float64 are some examples.\n",
        "* ndarray.itemsize - the size in bytes of each element of the array. For example, an array of elements of type float64 has itemsize 8 (=64/8), while one of type complex32 has itemsize 4 (=32/8). It is equivalent to ndarray.dtype.itemsize.\n",
        "* ndarray.data - the buffer containing the actual elements of the array. Normally, we won’t need to use this attribute because we will access the elements in an array using indexing facilities."
      ],
      "metadata": {
        "id": "QGcW8Fj9QBsY"
      }
    },
    {
      "cell_type": "code",
      "source": [
        "import numpy as np\n",
        "a = np.arange(15).reshape(3, 5)\n",
        "print(a)"
      ],
      "metadata": {
        "colab": {
          "base_uri": "https://localhost:8080/"
        },
        "id": "aPHR9gBxRDfK",
        "outputId": "2afea6a0-4829-4024-d584-4dd90c656bd6"
      },
      "execution_count": 1,
      "outputs": [
        {
          "output_type": "stream",
          "name": "stdout",
          "text": [
            "[[ 0  1  2  3  4]\n",
            " [ 5  6  7  8  9]\n",
            " [10 11 12 13 14]]\n"
          ]
        }
      ]
    },
    {
      "cell_type": "code",
      "source": [
        "a.ndim"
      ],
      "metadata": {
        "colab": {
          "base_uri": "https://localhost:8080/"
        },
        "id": "3EP5bT-8RKqq",
        "outputId": "5b345293-9132-44bc-cd89-6a22fd97d1e1"
      },
      "execution_count": 2,
      "outputs": [
        {
          "output_type": "execute_result",
          "data": {
            "text/plain": [
              "2"
            ]
          },
          "metadata": {},
          "execution_count": 2
        }
      ]
    },
    {
      "cell_type": "code",
      "source": [
        "a.shape"
      ],
      "metadata": {
        "colab": {
          "base_uri": "https://localhost:8080/"
        },
        "id": "c87V71UYRPSO",
        "outputId": "a446484e-06ef-415c-b1fd-b6744adefa64"
      },
      "execution_count": 3,
      "outputs": [
        {
          "output_type": "execute_result",
          "data": {
            "text/plain": [
              "(3, 5)"
            ]
          },
          "metadata": {},
          "execution_count": 3
        }
      ]
    },
    {
      "cell_type": "code",
      "source": [
        "a.dtype"
      ],
      "metadata": {
        "colab": {
          "base_uri": "https://localhost:8080/"
        },
        "id": "Qq27KLI4RQJz",
        "outputId": "c274e894-280b-43ca-f4d0-1d4f1fb5d0f2"
      },
      "execution_count": 4,
      "outputs": [
        {
          "output_type": "execute_result",
          "data": {
            "text/plain": [
              "dtype('int64')"
            ]
          },
          "metadata": {},
          "execution_count": 4
        }
      ]
    },
    {
      "cell_type": "code",
      "source": [
        "type(a)"
      ],
      "metadata": {
        "colab": {
          "base_uri": "https://localhost:8080/"
        },
        "id": "yn9SOc0XRlqf",
        "outputId": "7eae5515-0417-4709-f33f-8c941c572ef4"
      },
      "execution_count": 8,
      "outputs": [
        {
          "output_type": "execute_result",
          "data": {
            "text/plain": [
              "numpy.ndarray"
            ]
          },
          "metadata": {},
          "execution_count": 8
        }
      ]
    },
    {
      "cell_type": "code",
      "source": [
        "a.size"
      ],
      "metadata": {
        "colab": {
          "base_uri": "https://localhost:8080/"
        },
        "id": "hcQ6CKk6RRVH",
        "outputId": "0121eb50-177f-46c7-a1b8-5a12232eff1a"
      },
      "execution_count": 5,
      "outputs": [
        {
          "output_type": "execute_result",
          "data": {
            "text/plain": [
              "15"
            ]
          },
          "metadata": {},
          "execution_count": 5
        }
      ]
    },
    {
      "cell_type": "code",
      "source": [
        "a.itemsize"
      ],
      "metadata": {
        "colab": {
          "base_uri": "https://localhost:8080/"
        },
        "id": "FAfCI-fqRSjg",
        "outputId": "29c94573-ff53-469e-d226-6af770ec1236"
      },
      "execution_count": 6,
      "outputs": [
        {
          "output_type": "execute_result",
          "data": {
            "text/plain": [
              "8"
            ]
          },
          "metadata": {},
          "execution_count": 6
        }
      ]
    },
    {
      "cell_type": "code",
      "source": [
        "a.data"
      ],
      "metadata": {
        "colab": {
          "base_uri": "https://localhost:8080/"
        },
        "id": "f1L8dUbtRVCl",
        "outputId": "3270b2d7-9d30-42d8-b740-d29dbd421406"
      },
      "execution_count": 7,
      "outputs": [
        {
          "output_type": "execute_result",
          "data": {
            "text/plain": [
              "<memory at 0x7d19e1a9c5f0>"
            ]
          },
          "metadata": {},
          "execution_count": 7
        }
      ]
    },
    {
      "cell_type": "markdown",
      "source": [
        "# Array Creation\n",
        "There are several ways to create arrays.\n",
        "\n",
        "For example, you can create an array from a regular Python list or tuple using the array function. The type of the resulting array is deduced from the type of the elements in the sequences."
      ],
      "metadata": {
        "id": "fe8sJ54TRsJb"
      }
    },
    {
      "cell_type": "code",
      "source": [
        "a = np.array([2,3,4])\n",
        "print(a)\n",
        "a.dtype"
      ],
      "metadata": {
        "colab": {
          "base_uri": "https://localhost:8080/"
        },
        "id": "9WWm6XYuRZXF",
        "outputId": "8f1530b4-ed81-4280-dbae-b9fd8ab90c7e"
      },
      "execution_count": 11,
      "outputs": [
        {
          "output_type": "stream",
          "name": "stdout",
          "text": [
            "[2 3 4]\n"
          ]
        },
        {
          "output_type": "execute_result",
          "data": {
            "text/plain": [
              "dtype('int64')"
            ]
          },
          "metadata": {},
          "execution_count": 11
        }
      ]
    },
    {
      "cell_type": "code",
      "source": [
        "b = np.array([(1.5,2,3), (4,5,6)])\n",
        "print(b)\n",
        "b.dtype"
      ],
      "metadata": {
        "colab": {
          "base_uri": "https://localhost:8080/"
        },
        "id": "fjFwzoJLSBOF",
        "outputId": "e9748945-00f3-47c7-c85d-3d7fbe09b572"
      },
      "execution_count": 12,
      "outputs": [
        {
          "output_type": "stream",
          "name": "stdout",
          "text": [
            "[[1.5 2.  3. ]\n",
            " [4.  5.  6. ]]\n"
          ]
        },
        {
          "output_type": "execute_result",
          "data": {
            "text/plain": [
              "dtype('float64')"
            ]
          },
          "metadata": {},
          "execution_count": 12
        }
      ]
    },
    {
      "cell_type": "code",
      "source": [
        "c = np.array( [ [1,2], [3,4] ], dtype=complex )\n",
        "print(c)\n",
        "c.dtype"
      ],
      "metadata": {
        "colab": {
          "base_uri": "https://localhost:8080/"
        },
        "id": "RTHma-MfSDbX",
        "outputId": "0ae257c7-8c13-4d8d-f1a7-fb49a227a21d"
      },
      "execution_count": 13,
      "outputs": [
        {
          "output_type": "stream",
          "name": "stdout",
          "text": [
            "[[1.+0.j 2.+0.j]\n",
            " [3.+0.j 4.+0.j]]\n"
          ]
        },
        {
          "output_type": "execute_result",
          "data": {
            "text/plain": [
              "dtype('complex128')"
            ]
          },
          "metadata": {},
          "execution_count": 13
        }
      ]
    },
    {
      "cell_type": "markdown",
      "source": [
        "### Placeholder for Array Creation\n",
        "NumPy offers several functions to create arrays with initial placeholder content. These minimize the necessity of growing arrays, an expensive operation.\n",
        "\n",
        "The function zeros creates an array full of zeros, the function ones creates an array full of ones, and the function empty creates an array whose initial content is random and depends on the state of the memory. By default, the dtype of the created array is float64, but it can be specified via the key word argument dtype."
      ],
      "metadata": {
        "id": "2KmBSRupSYUG"
      }
    },
    {
      "cell_type": "code",
      "source": [
        "np.zeros((3,4))"
      ],
      "metadata": {
        "colab": {
          "base_uri": "https://localhost:8080/"
        },
        "id": "97jlhwxxSSQI",
        "outputId": "fa4b1c8f-e6ab-4780-809e-3c16acfc6cf7"
      },
      "execution_count": 16,
      "outputs": [
        {
          "output_type": "execute_result",
          "data": {
            "text/plain": [
              "array([[0., 0., 0., 0.],\n",
              "       [0., 0., 0., 0.],\n",
              "       [0., 0., 0., 0.]])"
            ]
          },
          "metadata": {},
          "execution_count": 16
        }
      ]
    },
    {
      "cell_type": "code",
      "source": [
        "np.ones((2,3,4), dtype=np.int16)"
      ],
      "metadata": {
        "colab": {
          "base_uri": "https://localhost:8080/"
        },
        "id": "qTVXAibPSv20",
        "outputId": "45ca23ef-e4f7-4308-b47e-016a8a927b45"
      },
      "execution_count": 17,
      "outputs": [
        {
          "output_type": "execute_result",
          "data": {
            "text/plain": [
              "array([[[1, 1, 1, 1],\n",
              "        [1, 1, 1, 1],\n",
              "        [1, 1, 1, 1]],\n",
              "\n",
              "       [[1, 1, 1, 1],\n",
              "        [1, 1, 1, 1],\n",
              "        [1, 1, 1, 1]]], dtype=int16)"
            ]
          },
          "metadata": {},
          "execution_count": 17
        }
      ]
    },
    {
      "cell_type": "code",
      "source": [
        "np.empty((2,3))"
      ],
      "metadata": {
        "colab": {
          "base_uri": "https://localhost:8080/"
        },
        "id": "b3sBWKdJSyC8",
        "outputId": "39aea4b7-7f7a-4992-b37d-2b9aa7264de7"
      },
      "execution_count": 18,
      "outputs": [
        {
          "output_type": "execute_result",
          "data": {
            "text/plain": [
              "array([[1.39069238e-309, 1.39069238e-309, 1.39069238e-309],\n",
              "       [1.39069238e-309, 1.39069238e-309, 1.39069238e-309]])"
            ]
          },
          "metadata": {},
          "execution_count": 18
        }
      ]
    },
    {
      "cell_type": "markdown",
      "source": [
        "### Creating Sequence of Numbers"
      ],
      "metadata": {
        "id": "9DF-TJMxS-T2"
      }
    },
    {
      "cell_type": "code",
      "source": [
        "np.arange(10,30,5)"
      ],
      "metadata": {
        "colab": {
          "base_uri": "https://localhost:8080/"
        },
        "id": "9JUGGK4AS1l5",
        "outputId": "33b4fcf1-ab68-42cc-eadb-8e7cd7b0cf34"
      },
      "execution_count": 19,
      "outputs": [
        {
          "output_type": "execute_result",
          "data": {
            "text/plain": [
              "array([10, 15, 20, 25])"
            ]
          },
          "metadata": {},
          "execution_count": 19
        }
      ]
    },
    {
      "cell_type": "code",
      "source": [
        "np.arange(0,2,0.3)"
      ],
      "metadata": {
        "colab": {
          "base_uri": "https://localhost:8080/"
        },
        "id": "SxoBNpKFTCle",
        "outputId": "6fcbe487-ff02-4bd5-85fe-e90a9daeebc9"
      },
      "execution_count": 21,
      "outputs": [
        {
          "output_type": "execute_result",
          "data": {
            "text/plain": [
              "array([0. , 0.3, 0.6, 0.9, 1.2, 1.5, 1.8])"
            ]
          },
          "metadata": {},
          "execution_count": 21
        }
      ]
    },
    {
      "cell_type": "markdown",
      "source": [
        "When arange is used with floating point arguments, it is generally not possible to predict the number of elements obtained, due to the finite floating point precision. For this reason, it is usually better to use the function linspace that receives as an argument the number of elements that we want, instead of the step:"
      ],
      "metadata": {
        "id": "LNcqaWQjTNEC"
      }
    },
    {
      "cell_type": "code",
      "source": [
        "from numpy import pi\n",
        "x = np.linspace(0, 2*pi, 100)\n",
        "f = np.sin(x)"
      ],
      "metadata": {
        "id": "v6S60YZlTDji"
      },
      "execution_count": 22,
      "outputs": []
    },
    {
      "cell_type": "markdown",
      "source": [
        "# Printing Arrays"
      ],
      "metadata": {
        "id": "gEDBkQsSTmbX"
      }
    },
    {
      "cell_type": "code",
      "source": [
        "a = np.arange(6)\n",
        "print(a)"
      ],
      "metadata": {
        "colab": {
          "base_uri": "https://localhost:8080/"
        },
        "id": "MoT5neJVTVx6",
        "outputId": "d255876d-00ef-4ce6-b8c1-7e24f0d41102"
      },
      "execution_count": 23,
      "outputs": [
        {
          "output_type": "stream",
          "name": "stdout",
          "text": [
            "[0 1 2 3 4 5]\n"
          ]
        }
      ]
    },
    {
      "cell_type": "code",
      "source": [
        "b = np.arange(12).reshape(4,3)\n",
        "print(b)"
      ],
      "metadata": {
        "colab": {
          "base_uri": "https://localhost:8080/"
        },
        "id": "2AnIOmmFWrVr",
        "outputId": "48ff562c-8df0-4cf3-85fc-d85c5693519b"
      },
      "execution_count": 24,
      "outputs": [
        {
          "output_type": "stream",
          "name": "stdout",
          "text": [
            "[[ 0  1  2]\n",
            " [ 3  4  5]\n",
            " [ 6  7  8]\n",
            " [ 9 10 11]]\n"
          ]
        }
      ]
    },
    {
      "cell_type": "code",
      "source": [
        "c = np.arange(24).reshape(2,3,4)\n",
        "print(c)"
      ],
      "metadata": {
        "colab": {
          "base_uri": "https://localhost:8080/"
        },
        "id": "s2stIJldWtFD",
        "outputId": "5ff276f9-79a9-431c-bba2-a873b50439b3"
      },
      "execution_count": 25,
      "outputs": [
        {
          "output_type": "stream",
          "name": "stdout",
          "text": [
            "[[[ 0  1  2  3]\n",
            "  [ 4  5  6  7]\n",
            "  [ 8  9 10 11]]\n",
            "\n",
            " [[12 13 14 15]\n",
            "  [16 17 18 19]\n",
            "  [20 21 22 23]]]\n"
          ]
        }
      ]
    },
    {
      "cell_type": "markdown",
      "source": [
        "If an array is too large to be printed, NumPy automatically skips the central part of the array and only prints the corners:"
      ],
      "metadata": {
        "id": "8keZBvARWxVG"
      }
    },
    {
      "cell_type": "code",
      "source": [
        "print(np.arange(10000))"
      ],
      "metadata": {
        "colab": {
          "base_uri": "https://localhost:8080/"
        },
        "id": "gr6Ea6KOWunA",
        "outputId": "b5be802c-b30c-4581-ddde-e7ad4cc265ae"
      },
      "execution_count": 26,
      "outputs": [
        {
          "output_type": "stream",
          "name": "stdout",
          "text": [
            "[   0    1    2 ... 9997 9998 9999]\n"
          ]
        }
      ]
    },
    {
      "cell_type": "code",
      "source": [
        "print(np.arange(10000).reshape(100,100))"
      ],
      "metadata": {
        "colab": {
          "base_uri": "https://localhost:8080/"
        },
        "id": "VBfI7jjTW1cL",
        "outputId": "46e58102-35e3-4745-d3a9-c5e6ff1b77ee"
      },
      "execution_count": 27,
      "outputs": [
        {
          "output_type": "stream",
          "name": "stdout",
          "text": [
            "[[   0    1    2 ...   97   98   99]\n",
            " [ 100  101  102 ...  197  198  199]\n",
            " [ 200  201  202 ...  297  298  299]\n",
            " ...\n",
            " [9700 9701 9702 ... 9797 9798 9799]\n",
            " [9800 9801 9802 ... 9897 9898 9899]\n",
            " [9900 9901 9902 ... 9997 9998 9999]]\n"
          ]
        }
      ]
    },
    {
      "cell_type": "markdown",
      "source": [
        "To disable this behaviour and force NumPy to print the entire array, you can change the printing options using set_printoptions."
      ],
      "metadata": {
        "id": "DOsrZT4RW6N2"
      }
    },
    {
      "cell_type": "code",
      "source": [
        "#np.set_printoptions(threshold=sys.maxsize)  # sys module should be imported"
      ],
      "metadata": {
        "id": "Fyv73blIW3hi"
      },
      "execution_count": 28,
      "outputs": []
    },
    {
      "cell_type": "markdown",
      "source": [
        "# Basic Operations"
      ],
      "metadata": {
        "id": "NBScGAcyXIxO"
      }
    },
    {
      "cell_type": "code",
      "source": [
        "a = np.array([20,30,40,50])\n",
        "b = np.arange(4)\n",
        "print(a)\n",
        "print(b)"
      ],
      "metadata": {
        "colab": {
          "base_uri": "https://localhost:8080/"
        },
        "id": "o4nZJ7jaW-3B",
        "outputId": "b051253c-f22e-41e4-ea62-4c29ad5a9620"
      },
      "execution_count": 29,
      "outputs": [
        {
          "output_type": "stream",
          "name": "stdout",
          "text": [
            "[20 30 40 50]\n",
            "[0 1 2 3]\n"
          ]
        }
      ]
    },
    {
      "cell_type": "code",
      "source": [
        "c = a-b\n",
        "print(c)"
      ],
      "metadata": {
        "colab": {
          "base_uri": "https://localhost:8080/"
        },
        "id": "y7v7W8JeXNJd",
        "outputId": "348ce079-79ee-40a8-dccc-189d0158a9b6"
      },
      "execution_count": 30,
      "outputs": [
        {
          "output_type": "stream",
          "name": "stdout",
          "text": [
            "[20 29 38 47]\n"
          ]
        }
      ]
    },
    {
      "cell_type": "code",
      "source": [
        "b**2"
      ],
      "metadata": {
        "colab": {
          "base_uri": "https://localhost:8080/"
        },
        "id": "DS99e8s4XPae",
        "outputId": "76f617fd-51e8-4650-dafb-a694b723d7b8"
      },
      "execution_count": 31,
      "outputs": [
        {
          "output_type": "execute_result",
          "data": {
            "text/plain": [
              "array([0, 1, 4, 9])"
            ]
          },
          "metadata": {},
          "execution_count": 31
        }
      ]
    },
    {
      "cell_type": "code",
      "source": [
        "10*np.sin(a)"
      ],
      "metadata": {
        "colab": {
          "base_uri": "https://localhost:8080/"
        },
        "id": "jRECJRcxXS2A",
        "outputId": "953d3150-d088-4e67-8071-f7c57aa5e03d"
      },
      "execution_count": 32,
      "outputs": [
        {
          "output_type": "execute_result",
          "data": {
            "text/plain": [
              "array([ 9.12945251, -9.88031624,  7.4511316 , -2.62374854])"
            ]
          },
          "metadata": {},
          "execution_count": 32
        }
      ]
    },
    {
      "cell_type": "code",
      "source": [
        "a < 35"
      ],
      "metadata": {
        "colab": {
          "base_uri": "https://localhost:8080/"
        },
        "id": "aP9Exby9XU9b",
        "outputId": "72575e67-2e1b-4d3c-9803-3f55e85e8445"
      },
      "execution_count": 33,
      "outputs": [
        {
          "output_type": "execute_result",
          "data": {
            "text/plain": [
              "array([ True,  True, False, False])"
            ]
          },
          "metadata": {},
          "execution_count": 33
        }
      ]
    },
    {
      "cell_type": "markdown",
      "source": [
        " The product operator * operates elementwise in NumPy arrays. The matrix product can be performed using the @ operator (in python >=3.5) or the dot function or method:"
      ],
      "metadata": {
        "id": "86BxtbszXcPP"
      }
    },
    {
      "cell_type": "code",
      "source": [
        "A = np.array([[1,1],[0,1]])\n",
        "B = np.array([[2,0],[3,4]])\n",
        "print(A)\n",
        "print(B)"
      ],
      "metadata": {
        "colab": {
          "base_uri": "https://localhost:8080/"
        },
        "id": "huXy6LR8XX2A",
        "outputId": "e0457815-c907-4c53-804f-17c2814bd847"
      },
      "execution_count": 34,
      "outputs": [
        {
          "output_type": "stream",
          "name": "stdout",
          "text": [
            "[[1 1]\n",
            " [0 1]]\n",
            "[[2 0]\n",
            " [3 4]]\n"
          ]
        }
      ]
    },
    {
      "cell_type": "code",
      "source": [
        "A*B"
      ],
      "metadata": {
        "colab": {
          "base_uri": "https://localhost:8080/"
        },
        "id": "7fH7aKAMXiiy",
        "outputId": "8b50a978-a2aa-4249-b184-526ebba57b83"
      },
      "execution_count": 35,
      "outputs": [
        {
          "output_type": "execute_result",
          "data": {
            "text/plain": [
              "array([[2, 0],\n",
              "       [0, 4]])"
            ]
          },
          "metadata": {},
          "execution_count": 35
        }
      ]
    },
    {
      "cell_type": "code",
      "source": [
        "A@B"
      ],
      "metadata": {
        "colab": {
          "base_uri": "https://localhost:8080/"
        },
        "id": "QURJsooHXjq_",
        "outputId": "701e1cd6-4f25-49ea-b3cc-6c2169f28a5e"
      },
      "execution_count": 36,
      "outputs": [
        {
          "output_type": "execute_result",
          "data": {
            "text/plain": [
              "array([[5, 4],\n",
              "       [3, 4]])"
            ]
          },
          "metadata": {},
          "execution_count": 36
        }
      ]
    },
    {
      "cell_type": "code",
      "source": [
        "A.dot(B)"
      ],
      "metadata": {
        "colab": {
          "base_uri": "https://localhost:8080/"
        },
        "id": "K91EWAiNXkoP",
        "outputId": "eadf1cfa-f423-4a72-a345-36cc0264889e"
      },
      "execution_count": 37,
      "outputs": [
        {
          "output_type": "execute_result",
          "data": {
            "text/plain": [
              "array([[5, 4],\n",
              "       [3, 4]])"
            ]
          },
          "metadata": {},
          "execution_count": 37
        }
      ]
    },
    {
      "cell_type": "markdown",
      "source": [
        "Some operations, such as += and *=, act in place to modify an existing array rather than create a new one"
      ],
      "metadata": {
        "id": "xALwcmjbXqPQ"
      }
    },
    {
      "cell_type": "code",
      "source": [
        "rg = np.random.default_rng(1)  # Random number generator instance\n",
        "a = np.ones((2,3), dtype=int)\n",
        "a *= 3\n",
        "print(a)"
      ],
      "metadata": {
        "colab": {
          "base_uri": "https://localhost:8080/"
        },
        "id": "OWrWHFXMXoCX",
        "outputId": "2a12fa4a-2870-45d3-e963-ad1e926bc983"
      },
      "execution_count": 41,
      "outputs": [
        {
          "output_type": "stream",
          "name": "stdout",
          "text": [
            "[[3 3 3]\n",
            " [3 3 3]]\n"
          ]
        }
      ]
    },
    {
      "cell_type": "code",
      "source": [
        "b = rg.random((2,3))\n",
        "print(b)"
      ],
      "metadata": {
        "colab": {
          "base_uri": "https://localhost:8080/"
        },
        "id": "2lxUY1ZIX7l_",
        "outputId": "f6660f88-794d-4d55-8b41-82de734352f9"
      },
      "execution_count": 42,
      "outputs": [
        {
          "output_type": "stream",
          "name": "stdout",
          "text": [
            "[[0.51182162 0.9504637  0.14415961]\n",
            " [0.94864945 0.31183145 0.42332645]]\n"
          ]
        }
      ]
    },
    {
      "cell_type": "code",
      "source": [
        "b += a\n",
        "print(b)"
      ],
      "metadata": {
        "colab": {
          "base_uri": "https://localhost:8080/"
        },
        "id": "l1qDndMlifTO",
        "outputId": "b981e38d-9129-460e-c37f-788cafb7c506"
      },
      "execution_count": 43,
      "outputs": [
        {
          "output_type": "stream",
          "name": "stdout",
          "text": [
            "[[3.51182162 3.9504637  3.14415961]\n",
            " [3.94864945 3.31183145 3.42332645]]\n"
          ]
        }
      ]
    },
    {
      "cell_type": "markdown",
      "source": [
        "When operating with arrays of different types, the type of the resulting array corresponds to the more general or precise one (a behavior known as upcasting)."
      ],
      "metadata": {
        "id": "CrW0X-1dn3Wf"
      }
    },
    {
      "cell_type": "code",
      "source": [
        "a = np.ones(3, dtype=np.int32)\n",
        "b = np.linspace(0,pi,3)\n",
        "b.dtype.name"
      ],
      "metadata": {
        "colab": {
          "base_uri": "https://localhost:8080/",
          "height": 35
        },
        "id": "SFO9lzgiij1e",
        "outputId": "037d4db5-8be4-42ac-932f-0638e8892ef1"
      },
      "execution_count": 44,
      "outputs": [
        {
          "output_type": "execute_result",
          "data": {
            "text/plain": [
              "'float64'"
            ],
            "application/vnd.google.colaboratory.intrinsic+json": {
              "type": "string"
            }
          },
          "metadata": {},
          "execution_count": 44
        }
      ]
    },
    {
      "cell_type": "code",
      "source": [
        "c = a + b\n",
        "print(c)\n",
        "c.dtype.name"
      ],
      "metadata": {
        "colab": {
          "base_uri": "https://localhost:8080/",
          "height": 52
        },
        "id": "DvVT90qEt97-",
        "outputId": "9148f7c8-0bd3-46b5-c11d-15d1918c7da2"
      },
      "execution_count": 45,
      "outputs": [
        {
          "output_type": "stream",
          "name": "stdout",
          "text": [
            "[1.         2.57079633 4.14159265]\n"
          ]
        },
        {
          "output_type": "execute_result",
          "data": {
            "text/plain": [
              "'float64'"
            ],
            "application/vnd.google.colaboratory.intrinsic+json": {
              "type": "string"
            }
          },
          "metadata": {},
          "execution_count": 45
        }
      ]
    },
    {
      "cell_type": "code",
      "source": [
        "d = np.exp(c*1j)\n",
        "d"
      ],
      "metadata": {
        "colab": {
          "base_uri": "https://localhost:8080/"
        },
        "id": "192PcPGcuAnF",
        "outputId": "1d54edda-5887-4bad-c2e2-3311b1237ced"
      },
      "execution_count": 46,
      "outputs": [
        {
          "output_type": "execute_result",
          "data": {
            "text/plain": [
              "array([ 0.54030231+0.84147098j, -0.84147098+0.54030231j,\n",
              "       -0.54030231-0.84147098j])"
            ]
          },
          "metadata": {},
          "execution_count": 46
        }
      ]
    },
    {
      "cell_type": "code",
      "source": [
        "d.dtype.name"
      ],
      "metadata": {
        "colab": {
          "base_uri": "https://localhost:8080/",
          "height": 35
        },
        "id": "QK5tB7n5uCtQ",
        "outputId": "bfbe361a-5eb9-422e-e1ec-c0a41417d3b8"
      },
      "execution_count": 47,
      "outputs": [
        {
          "output_type": "execute_result",
          "data": {
            "text/plain": [
              "'complex128'"
            ],
            "application/vnd.google.colaboratory.intrinsic+json": {
              "type": "string"
            }
          },
          "metadata": {},
          "execution_count": 47
        }
      ]
    },
    {
      "cell_type": "markdown",
      "source": [
        "Many unary operations, such as computing the sum of all the elements in the array, are implemented as methods of the ndarray class."
      ],
      "metadata": {
        "id": "JBwtq5TUuHxD"
      }
    },
    {
      "cell_type": "code",
      "source": [
        "a = np.random.random((2,3))\n",
        "a"
      ],
      "metadata": {
        "colab": {
          "base_uri": "https://localhost:8080/"
        },
        "id": "7viSHVBFuD_u",
        "outputId": "173f8539-de43-4de1-cc2b-d8250967483c"
      },
      "execution_count": 48,
      "outputs": [
        {
          "output_type": "execute_result",
          "data": {
            "text/plain": [
              "array([[0.76307407, 0.31267741, 0.58091179],\n",
              "       [0.99044673, 0.30171312, 0.2740469 ]])"
            ]
          },
          "metadata": {},
          "execution_count": 48
        }
      ]
    },
    {
      "cell_type": "code",
      "source": [
        "a.sum()"
      ],
      "metadata": {
        "colab": {
          "base_uri": "https://localhost:8080/"
        },
        "id": "LgufHuOLuOoi",
        "outputId": "5802fb66-cdec-4fa6-c960-bb5f34bd37a6"
      },
      "execution_count": 49,
      "outputs": [
        {
          "output_type": "execute_result",
          "data": {
            "text/plain": [
              "3.2228700183279715"
            ]
          },
          "metadata": {},
          "execution_count": 49
        }
      ]
    },
    {
      "cell_type": "code",
      "source": [
        "a.min()"
      ],
      "metadata": {
        "colab": {
          "base_uri": "https://localhost:8080/"
        },
        "id": "UNXUx_SfuRiF",
        "outputId": "ad3ff752-38ea-4aa2-cf5f-4b030299f571"
      },
      "execution_count": 50,
      "outputs": [
        {
          "output_type": "execute_result",
          "data": {
            "text/plain": [
              "0.27404689619678313"
            ]
          },
          "metadata": {},
          "execution_count": 50
        }
      ]
    },
    {
      "cell_type": "code",
      "source": [
        "a.max()"
      ],
      "metadata": {
        "colab": {
          "base_uri": "https://localhost:8080/"
        },
        "id": "W3OVb0TvuSmr",
        "outputId": "19bb5642-dd90-4437-ca08-5b7eb8750e13"
      },
      "execution_count": 51,
      "outputs": [
        {
          "output_type": "execute_result",
          "data": {
            "text/plain": [
              "0.9904467272459611"
            ]
          },
          "metadata": {},
          "execution_count": 51
        }
      ]
    },
    {
      "cell_type": "markdown",
      "source": [
        "By default, these operations apply to the array as though it were a list of numbers, regardless of its shape. However, by specifying the axis parameter you can apply an operation along the specified axis of an array:"
      ],
      "metadata": {
        "id": "Jc59QgcZuoim"
      }
    },
    {
      "cell_type": "code",
      "source": [
        "b = np.arange(12).reshape(3,4)\n",
        "print(b)"
      ],
      "metadata": {
        "colab": {
          "base_uri": "https://localhost:8080/"
        },
        "id": "H1SfZqcluTfq",
        "outputId": "8be0187a-5097-49a8-80c2-8a8167d3f4f0"
      },
      "execution_count": 52,
      "outputs": [
        {
          "output_type": "stream",
          "name": "stdout",
          "text": [
            "[[ 0  1  2  3]\n",
            " [ 4  5  6  7]\n",
            " [ 8  9 10 11]]\n"
          ]
        }
      ]
    },
    {
      "cell_type": "code",
      "source": [
        "b.sum(axis=0)  # sum of each column"
      ],
      "metadata": {
        "colab": {
          "base_uri": "https://localhost:8080/"
        },
        "id": "8qoc5lzdutGu",
        "outputId": "522ccb68-ce6a-4852-a47f-90dbed72b7fa"
      },
      "execution_count": 53,
      "outputs": [
        {
          "output_type": "execute_result",
          "data": {
            "text/plain": [
              "array([12, 15, 18, 21])"
            ]
          },
          "metadata": {},
          "execution_count": 53
        }
      ]
    },
    {
      "cell_type": "code",
      "source": [
        "b.min(axis=1)  # min of each row"
      ],
      "metadata": {
        "colab": {
          "base_uri": "https://localhost:8080/"
        },
        "id": "Cx79fhyZuvpJ",
        "outputId": "4206211a-aa88-4c2c-c00c-a2a96d56f059"
      },
      "execution_count": 54,
      "outputs": [
        {
          "output_type": "execute_result",
          "data": {
            "text/plain": [
              "array([0, 4, 8])"
            ]
          },
          "metadata": {},
          "execution_count": 54
        }
      ]
    },
    {
      "cell_type": "code",
      "source": [
        "b.cumsum(axis=1)  # cumulative sum along each row"
      ],
      "metadata": {
        "colab": {
          "base_uri": "https://localhost:8080/"
        },
        "id": "QjH3JeltuyFq",
        "outputId": "977a6d12-2645-4a8d-a29a-391a6c0cb83e"
      },
      "execution_count": 55,
      "outputs": [
        {
          "output_type": "execute_result",
          "data": {
            "text/plain": [
              "array([[ 0,  1,  3,  6],\n",
              "       [ 4,  9, 15, 22],\n",
              "       [ 8, 17, 27, 38]])"
            ]
          },
          "metadata": {},
          "execution_count": 55
        }
      ]
    },
    {
      "cell_type": "markdown",
      "source": [
        "# Universal Functions\n",
        "NumPy provides familiar mathematical functions such as sin, cos, and exp. In NumPy, these are called “universal functions” (ufunc). Within NumPy, these functions operate elementwise on an array, producing an array as output."
      ],
      "metadata": {
        "id": "6YLk0LXevPuA"
      }
    },
    {
      "cell_type": "code",
      "source": [
        "B = np.arange(3)\n",
        "print(B)"
      ],
      "metadata": {
        "colab": {
          "base_uri": "https://localhost:8080/"
        },
        "id": "KqbN5r0Fu42-",
        "outputId": "34b50223-7975-4e8e-aeee-be466bb32e00"
      },
      "execution_count": 56,
      "outputs": [
        {
          "output_type": "stream",
          "name": "stdout",
          "text": [
            "[0 1 2]\n"
          ]
        }
      ]
    },
    {
      "cell_type": "code",
      "source": [
        "np.exp(B)"
      ],
      "metadata": {
        "colab": {
          "base_uri": "https://localhost:8080/"
        },
        "id": "rY2v2xOlvV8o",
        "outputId": "f8781f3b-626f-4e8d-c54e-9312a2c89285"
      },
      "execution_count": 57,
      "outputs": [
        {
          "output_type": "execute_result",
          "data": {
            "text/plain": [
              "array([1.        , 2.71828183, 7.3890561 ])"
            ]
          },
          "metadata": {},
          "execution_count": 57
        }
      ]
    },
    {
      "cell_type": "code",
      "source": [
        "np.sqrt(B)"
      ],
      "metadata": {
        "colab": {
          "base_uri": "https://localhost:8080/"
        },
        "id": "1WOZtKFlvXMC",
        "outputId": "9917ad79-6b3b-46fd-a21b-f8635ae290fa"
      },
      "execution_count": 58,
      "outputs": [
        {
          "output_type": "execute_result",
          "data": {
            "text/plain": [
              "array([0.        , 1.        , 1.41421356])"
            ]
          },
          "metadata": {},
          "execution_count": 58
        }
      ]
    },
    {
      "cell_type": "code",
      "source": [
        "C = np.array([2., -1., 4.])\n",
        "print(C)"
      ],
      "metadata": {
        "colab": {
          "base_uri": "https://localhost:8080/"
        },
        "id": "oY1g2kamvYdQ",
        "outputId": "c8bebe21-0967-43cc-fc89-c2e786a511bb"
      },
      "execution_count": 59,
      "outputs": [
        {
          "output_type": "stream",
          "name": "stdout",
          "text": [
            "[ 2. -1.  4.]\n"
          ]
        }
      ]
    },
    {
      "cell_type": "code",
      "source": [
        "np.add(B,C)"
      ],
      "metadata": {
        "colab": {
          "base_uri": "https://localhost:8080/"
        },
        "id": "R6uZW-CdvaLF",
        "outputId": "de7ff00b-fa3a-483e-c09f-72fc3f7c15ae"
      },
      "execution_count": 60,
      "outputs": [
        {
          "output_type": "execute_result",
          "data": {
            "text/plain": [
              "array([2., 0., 6.])"
            ]
          },
          "metadata": {},
          "execution_count": 60
        }
      ]
    },
    {
      "cell_type": "markdown",
      "source": [
        "# Indexing, Slicing and Iterating\n",
        "One-dimensional arrays can be indexed, sliced and iterated over, much like lists and other Python sequences."
      ],
      "metadata": {
        "id": "b7guTRlMvfQD"
      }
    },
    {
      "cell_type": "code",
      "source": [
        "a = np.arange(10)**3\n",
        "print(a)"
      ],
      "metadata": {
        "colab": {
          "base_uri": "https://localhost:8080/"
        },
        "id": "xJra_nQvvbo7",
        "outputId": "c93049e7-21b6-47db-c322-ab7c840290f9"
      },
      "execution_count": 61,
      "outputs": [
        {
          "output_type": "stream",
          "name": "stdout",
          "text": [
            "[  0   1   8  27  64 125 216 343 512 729]\n"
          ]
        }
      ]
    },
    {
      "cell_type": "code",
      "source": [
        "a[2]"
      ],
      "metadata": {
        "colab": {
          "base_uri": "https://localhost:8080/"
        },
        "id": "hSh6bvmOv2sZ",
        "outputId": "100a653b-4381-4a8a-9a4c-34c307713fcd"
      },
      "execution_count": 62,
      "outputs": [
        {
          "output_type": "execute_result",
          "data": {
            "text/plain": [
              "8"
            ]
          },
          "metadata": {},
          "execution_count": 62
        }
      ]
    },
    {
      "cell_type": "code",
      "source": [
        "a[2:5]"
      ],
      "metadata": {
        "colab": {
          "base_uri": "https://localhost:8080/"
        },
        "id": "mtS7-kQSv4aO",
        "outputId": "f63b7b02-49d9-4cb0-bd0d-ed48e2b84703"
      },
      "execution_count": 63,
      "outputs": [
        {
          "output_type": "execute_result",
          "data": {
            "text/plain": [
              "array([ 8, 27, 64])"
            ]
          },
          "metadata": {},
          "execution_count": 63
        }
      ]
    },
    {
      "cell_type": "code",
      "source": [
        "a[:6:2] = 1000  # equivalent to a[0:6:2] = -1000; from start to position 6, exclusive, set every 2nd element to -1000\n",
        "a"
      ],
      "metadata": {
        "colab": {
          "base_uri": "https://localhost:8080/"
        },
        "id": "Z7XHz8KJv57p",
        "outputId": "15414713-ac4f-4753-dfdc-0d13d2225971"
      },
      "execution_count": 68,
      "outputs": [
        {
          "output_type": "execute_result",
          "data": {
            "text/plain": [
              "array([1000,    1, 1000,   27, 1000,  125,  216,  343,  512,  729])"
            ]
          },
          "metadata": {},
          "execution_count": 68
        }
      ]
    },
    {
      "cell_type": "code",
      "source": [
        "a[::-1]  # reversed a"
      ],
      "metadata": {
        "colab": {
          "base_uri": "https://localhost:8080/"
        },
        "id": "fjIRb018v-Ba",
        "outputId": "309716f0-c8d3-42e8-9c5a-af5ad7148495"
      },
      "execution_count": 69,
      "outputs": [
        {
          "output_type": "execute_result",
          "data": {
            "text/plain": [
              "array([ 729,  512,  343,  216,  125, 1000,   27, 1000,    1, 1000])"
            ]
          },
          "metadata": {},
          "execution_count": 69
        }
      ]
    },
    {
      "cell_type": "code",
      "source": [
        "for i in a:\n",
        "  print(i**(1/3.))"
      ],
      "metadata": {
        "colab": {
          "base_uri": "https://localhost:8080/"
        },
        "id": "-B7Ty6RZwK3m",
        "outputId": "9a0586a3-8a7c-4bf3-9bdb-794a408c49fd"
      },
      "execution_count": 70,
      "outputs": [
        {
          "output_type": "stream",
          "name": "stdout",
          "text": [
            "9.999999999999998\n",
            "1.0\n",
            "9.999999999999998\n",
            "3.0\n",
            "9.999999999999998\n",
            "4.999999999999999\n",
            "5.999999999999999\n",
            "6.999999999999999\n",
            "7.999999999999999\n",
            "8.999999999999998\n"
          ]
        }
      ]
    },
    {
      "cell_type": "markdown",
      "source": [
        "**Multidimensional arrays** can have one index per axis. These indices are given in a tuple separated by commas:"
      ],
      "metadata": {
        "id": "aYgYlckxwd7l"
      }
    },
    {
      "cell_type": "code",
      "source": [
        "def f(x,y):\n",
        "  return 10*x+y\n",
        "b = np.fromfunction(f,(5,4),dtype=int)\n",
        "b"
      ],
      "metadata": {
        "colab": {
          "base_uri": "https://localhost:8080/"
        },
        "id": "WaRKSAMVwTdB",
        "outputId": "874df358-d9ac-40bd-dec9-f1bfdfb860b6"
      },
      "execution_count": 72,
      "outputs": [
        {
          "output_type": "execute_result",
          "data": {
            "text/plain": [
              "array([[ 0,  1,  2,  3],\n",
              "       [10, 11, 12, 13],\n",
              "       [20, 21, 22, 23],\n",
              "       [30, 31, 32, 33],\n",
              "       [40, 41, 42, 43]])"
            ]
          },
          "metadata": {},
          "execution_count": 72
        }
      ]
    },
    {
      "cell_type": "code",
      "source": [
        "b[2,3]"
      ],
      "metadata": {
        "colab": {
          "base_uri": "https://localhost:8080/"
        },
        "id": "54-8YlWgwrhN",
        "outputId": "5ad759df-a370-44f3-e75d-240ce97b4b32"
      },
      "execution_count": 73,
      "outputs": [
        {
          "output_type": "execute_result",
          "data": {
            "text/plain": [
              "23"
            ]
          },
          "metadata": {},
          "execution_count": 73
        }
      ]
    },
    {
      "cell_type": "code",
      "source": [
        "b[0:5,1]  # each row in the second column of b"
      ],
      "metadata": {
        "colab": {
          "base_uri": "https://localhost:8080/"
        },
        "id": "4fhEXRKhwv7U",
        "outputId": "3973cdd6-c295-48c6-af29-e3f645e16954"
      },
      "execution_count": 74,
      "outputs": [
        {
          "output_type": "execute_result",
          "data": {
            "text/plain": [
              "array([ 1, 11, 21, 31, 41])"
            ]
          },
          "metadata": {},
          "execution_count": 74
        }
      ]
    },
    {
      "cell_type": "code",
      "source": [
        "b[:,1] #equivalent of prev example"
      ],
      "metadata": {
        "colab": {
          "base_uri": "https://localhost:8080/"
        },
        "id": "meXuS9wmw4gV",
        "outputId": "631ccba1-5919-46a4-a84e-356288c183c8"
      },
      "execution_count": 75,
      "outputs": [
        {
          "output_type": "execute_result",
          "data": {
            "text/plain": [
              "array([ 1, 11, 21, 31, 41])"
            ]
          },
          "metadata": {},
          "execution_count": 75
        }
      ]
    },
    {
      "cell_type": "code",
      "source": [
        "b[1:3, :] #each column in the second and third row of b"
      ],
      "metadata": {
        "colab": {
          "base_uri": "https://localhost:8080/"
        },
        "id": "kNGNY8GZxAgg",
        "outputId": "e3255dd0-09ae-4161-83ea-959ff4d33d30"
      },
      "execution_count": 76,
      "outputs": [
        {
          "output_type": "execute_result",
          "data": {
            "text/plain": [
              "array([[10, 11, 12, 13],\n",
              "       [20, 21, 22, 23]])"
            ]
          },
          "metadata": {},
          "execution_count": 76
        }
      ]
    },
    {
      "cell_type": "markdown",
      "source": [
        "When fewer indices are provided than the number of axes, the missing indices are considered complete slices:"
      ],
      "metadata": {
        "id": "yoSfN5tCxKdB"
      }
    },
    {
      "cell_type": "code",
      "source": [
        "b[-1]  # the last row. Equivalent to b[-1,:]"
      ],
      "metadata": {
        "colab": {
          "base_uri": "https://localhost:8080/"
        },
        "id": "GPmf-LPNxGF_",
        "outputId": "4ecb9dc8-b73b-4e7e-db69-5b73bed78472"
      },
      "execution_count": 77,
      "outputs": [
        {
          "output_type": "execute_result",
          "data": {
            "text/plain": [
              "array([40, 41, 42, 43])"
            ]
          },
          "metadata": {},
          "execution_count": 77
        }
      ]
    },
    {
      "cell_type": "markdown",
      "source": [
        "The expression within brackets in b[i] is treated as an i followed by as many instances of : as needed to represent the remaining axes. NumPy also allows you to write this using dots as b[i, ...].\n",
        "\n",
        "The dots (...) represent as many colons as needed to produce a complete indexing tuple. For example, if x is an array with 5 axes, then\n",
        "\n",
        "* x[1, 2, ...] is equivalent to x[1, 2, :, :, :],\n",
        "\n",
        "* x[..., 3] to x[:, :, :, :, 3] and\n",
        "\n",
        "* x[4, ..., 5, :] to x[4, :, :, 5, :]."
      ],
      "metadata": {
        "id": "okWS4eNYxTnj"
      }
    },
    {
      "cell_type": "code",
      "source": [
        "c = np.array([[[0,1,2],[3,4,5]],[[6,7,8],[9,10,11]]])\n",
        "print(c)"
      ],
      "metadata": {
        "colab": {
          "base_uri": "https://localhost:8080/"
        },
        "id": "mc_bRyDIxO2e",
        "outputId": "7e946d23-bbad-485e-d019-c69ae0948fc9"
      },
      "execution_count": 78,
      "outputs": [
        {
          "output_type": "stream",
          "name": "stdout",
          "text": [
            "[[[ 0  1  2]\n",
            "  [ 3  4  5]]\n",
            "\n",
            " [[ 6  7  8]\n",
            "  [ 9 10 11]]]\n"
          ]
        }
      ]
    },
    {
      "cell_type": "code",
      "source": [
        "c.shape"
      ],
      "metadata": {
        "colab": {
          "base_uri": "https://localhost:8080/"
        },
        "id": "nBcrjzhExkmd",
        "outputId": "b29f207d-4bf5-42ac-86bb-a818a1b65ca8"
      },
      "execution_count": 79,
      "outputs": [
        {
          "output_type": "execute_result",
          "data": {
            "text/plain": [
              "(2, 2, 3)"
            ]
          },
          "metadata": {},
          "execution_count": 79
        }
      ]
    },
    {
      "cell_type": "code",
      "source": [
        "c[1,...]#same as c[1,:,:] or c[1]"
      ],
      "metadata": {
        "colab": {
          "base_uri": "https://localhost:8080/"
        },
        "id": "CJOdt9-9xmtX",
        "outputId": "e657bb79-099b-478d-88d2-44053cbeadec"
      },
      "execution_count": 80,
      "outputs": [
        {
          "output_type": "execute_result",
          "data": {
            "text/plain": [
              "array([[ 6,  7,  8],\n",
              "       [ 9, 10, 11]])"
            ]
          },
          "metadata": {},
          "execution_count": 80
        }
      ]
    },
    {
      "cell_type": "markdown",
      "source": [
        "**Iterating** over multidimensional arrays is done with respect to the first axis:"
      ],
      "metadata": {
        "id": "e-tJiM8-xvbg"
      }
    },
    {
      "cell_type": "code",
      "source": [
        "for row in b:\n",
        "  print(row)"
      ],
      "metadata": {
        "colab": {
          "base_uri": "https://localhost:8080/"
        },
        "id": "656JnCQJxrWE",
        "outputId": "b3e10cba-73e0-4f7e-94cb-eb0c56c4849d"
      },
      "execution_count": 81,
      "outputs": [
        {
          "output_type": "stream",
          "name": "stdout",
          "text": [
            "[0 1 2 3]\n",
            "[10 11 12 13]\n",
            "[20 21 22 23]\n",
            "[30 31 32 33]\n",
            "[40 41 42 43]\n"
          ]
        }
      ]
    },
    {
      "cell_type": "markdown",
      "source": [
        "However, if one wants to perform an operation on each element in the array, one can use the flat attribute which is an iterator over all the elements of the array:"
      ],
      "metadata": {
        "id": "EBZUu_7Qx801"
      }
    },
    {
      "cell_type": "code",
      "source": [
        "for element in b.flat:\n",
        "  print(element)"
      ],
      "metadata": {
        "colab": {
          "base_uri": "https://localhost:8080/"
        },
        "id": "wSfxVqjwx1Br",
        "outputId": "11aa10c9-ef52-454b-b8f2-69b91fbf752e"
      },
      "execution_count": 82,
      "outputs": [
        {
          "output_type": "stream",
          "name": "stdout",
          "text": [
            "0\n",
            "1\n",
            "2\n",
            "3\n",
            "10\n",
            "11\n",
            "12\n",
            "13\n",
            "20\n",
            "21\n",
            "22\n",
            "23\n",
            "30\n",
            "31\n",
            "32\n",
            "33\n",
            "40\n",
            "41\n",
            "42\n",
            "43\n"
          ]
        }
      ]
    },
    {
      "cell_type": "markdown",
      "source": [
        "# Shape Manipulation"
      ],
      "metadata": {
        "id": "_payPVr3yakP"
      }
    },
    {
      "cell_type": "markdown",
      "source": [
        "## Changing Shape of an Array\n",
        "An array has a shape given by the number of elements along each axis:"
      ],
      "metadata": {
        "id": "-KE8lZPPydn7"
      }
    },
    {
      "cell_type": "code",
      "source": [
        "a = np.floor(10 * rg.random((3,4)))\n",
        "print(a)\n",
        "print(a.shape)"
      ],
      "metadata": {
        "colab": {
          "base_uri": "https://localhost:8080/"
        },
        "id": "YmY_dTeTyCgM",
        "outputId": "e32237dd-c0ce-401a-8e8e-7b2131cdaa8c"
      },
      "execution_count": 84,
      "outputs": [
        {
          "output_type": "stream",
          "name": "stdout",
          "text": [
            "[[2. 2. 7. 2.]\n",
            " [4. 9. 9. 7.]\n",
            " [5. 2. 1. 9.]]\n",
            "(3, 4)\n"
          ]
        }
      ]
    },
    {
      "cell_type": "markdown",
      "source": [
        "The shape of an array can be changed with various commands. Note that the following three commands all return a modified array, but do not change the original array:"
      ],
      "metadata": {
        "id": "7KRSr9CVyvE1"
      }
    },
    {
      "cell_type": "code",
      "source": [
        "a.ravel() #returns the array, flattened"
      ],
      "metadata": {
        "colab": {
          "base_uri": "https://localhost:8080/"
        },
        "id": "DojB3ikFypQo",
        "outputId": "15d35175-79ae-4297-e0ea-559a0fa64167"
      },
      "execution_count": 85,
      "outputs": [
        {
          "output_type": "execute_result",
          "data": {
            "text/plain": [
              "array([2., 2., 7., 2., 4., 9., 9., 7., 5., 2., 1., 9.])"
            ]
          },
          "metadata": {},
          "execution_count": 85
        }
      ]
    },
    {
      "cell_type": "code",
      "source": [
        "a.reshape(6,2) #returns the array with a modified shape"
      ],
      "metadata": {
        "colab": {
          "base_uri": "https://localhost:8080/"
        },
        "id": "18zukIOry2KU",
        "outputId": "8e918e94-6cf0-4a96-b3e0-2fd90b696fb6"
      },
      "execution_count": 86,
      "outputs": [
        {
          "output_type": "execute_result",
          "data": {
            "text/plain": [
              "array([[2., 2.],\n",
              "       [7., 2.],\n",
              "       [4., 9.],\n",
              "       [9., 7.],\n",
              "       [5., 2.],\n",
              "       [1., 9.]])"
            ]
          },
          "metadata": {},
          "execution_count": 86
        }
      ]
    },
    {
      "cell_type": "code",
      "source": [
        "a.T #returns the array, transposed"
      ],
      "metadata": {
        "colab": {
          "base_uri": "https://localhost:8080/"
        },
        "id": "ZWV-_Jdly4E6",
        "outputId": "c0440d94-7a55-40cf-f2f7-6164dbe499a1"
      },
      "execution_count": 87,
      "outputs": [
        {
          "output_type": "execute_result",
          "data": {
            "text/plain": [
              "array([[2., 4., 5.],\n",
              "       [2., 9., 2.],\n",
              "       [7., 9., 1.],\n",
              "       [2., 7., 9.]])"
            ]
          },
          "metadata": {},
          "execution_count": 87
        }
      ]
    },
    {
      "cell_type": "code",
      "source": [
        "a.T.shape"
      ],
      "metadata": {
        "colab": {
          "base_uri": "https://localhost:8080/"
        },
        "id": "3voIw2Ohy53S",
        "outputId": "d5bd5b3b-5fdb-400f-b17c-9b15b7c2dd69"
      },
      "execution_count": 88,
      "outputs": [
        {
          "output_type": "execute_result",
          "data": {
            "text/plain": [
              "(4, 3)"
            ]
          },
          "metadata": {},
          "execution_count": 88
        }
      ]
    },
    {
      "cell_type": "code",
      "source": [
        "a.shape"
      ],
      "metadata": {
        "colab": {
          "base_uri": "https://localhost:8080/"
        },
        "id": "AL5J65Cny7Od",
        "outputId": "f97e48a0-8548-4661-d005-03ab213c9e1c"
      },
      "execution_count": 89,
      "outputs": [
        {
          "output_type": "execute_result",
          "data": {
            "text/plain": [
              "(3, 4)"
            ]
          },
          "metadata": {},
          "execution_count": 89
        }
      ]
    },
    {
      "cell_type": "markdown",
      "source": [
        "The order of the elements in the array resulting from ravel is normally “C-style”, that is, the rightmost index “changes the fastest”, so the element after a[0, 0] is a[0, 1]. If the array is reshaped to some other shape, again the array is treated as “C-style”. NumPy normally creates arrays stored in this order, so ravel will usually not need to copy its argument, but if the array was made by taking slices of another array or created with unusual options, it may need to be copied. The functions ravel and reshape can also be instructed, using an optional argument, to use FORTRAN-style arrays, in which the leftmost index changes the fastest.\n",
        "\n",
        "The reshape function returns its argument with a modified shape, whereas the ndarray.resize method modifies the array itself:"
      ],
      "metadata": {
        "id": "tDFLG6GrzBhp"
      }
    },
    {
      "cell_type": "code",
      "source": [
        "a"
      ],
      "metadata": {
        "colab": {
          "base_uri": "https://localhost:8080/"
        },
        "id": "Tc4PqNzby8bb",
        "outputId": "c54cc578-63f9-446e-a935-aa9de2868184"
      },
      "execution_count": 90,
      "outputs": [
        {
          "output_type": "execute_result",
          "data": {
            "text/plain": [
              "array([[2., 2., 7., 2.],\n",
              "       [4., 9., 9., 7.],\n",
              "       [5., 2., 1., 9.]])"
            ]
          },
          "metadata": {},
          "execution_count": 90
        }
      ]
    },
    {
      "cell_type": "code",
      "source": [
        "a.resize(2,6)"
      ],
      "metadata": {
        "id": "A2hkRwo7zLQk"
      },
      "execution_count": 91,
      "outputs": []
    },
    {
      "cell_type": "code",
      "source": [
        "a"
      ],
      "metadata": {
        "colab": {
          "base_uri": "https://localhost:8080/"
        },
        "id": "O1snsCEszMrx",
        "outputId": "f5b3aabb-1102-4a2c-ca65-9769bfb114d5"
      },
      "execution_count": 92,
      "outputs": [
        {
          "output_type": "execute_result",
          "data": {
            "text/plain": [
              "array([[2., 2., 7., 2., 4., 9.],\n",
              "       [9., 7., 5., 2., 1., 9.]])"
            ]
          },
          "metadata": {},
          "execution_count": 92
        }
      ]
    },
    {
      "cell_type": "markdown",
      "source": [
        "If a dimension is given as -1 in a reshaping operation, the other dimensions are automatically calculated:"
      ],
      "metadata": {
        "id": "5ptTMfzszPIp"
      }
    },
    {
      "cell_type": "code",
      "source": [
        "a.reshape(3,-1)"
      ],
      "metadata": {
        "colab": {
          "base_uri": "https://localhost:8080/"
        },
        "id": "AgrsJ17nzNVj",
        "outputId": "25b16474-1e55-45b0-c6a0-9fbdfeeef627"
      },
      "execution_count": 93,
      "outputs": [
        {
          "output_type": "execute_result",
          "data": {
            "text/plain": [
              "array([[2., 2., 7., 2.],\n",
              "       [4., 9., 9., 7.],\n",
              "       [5., 2., 1., 9.]])"
            ]
          },
          "metadata": {},
          "execution_count": 93
        }
      ]
    },
    {
      "cell_type": "markdown",
      "source": [
        "## Stacking Together Different Arrays\n",
        "Several arrays can be stacked together along different axes:"
      ],
      "metadata": {
        "id": "XrPDeE5czVSs"
      }
    },
    {
      "cell_type": "code",
      "source": [
        "a = np.floor(10*rg.random((2,2)))\n",
        "b = np.floor(10*rg.random((2,2)))\n",
        "print(a)\n",
        "print(b)"
      ],
      "metadata": {
        "colab": {
          "base_uri": "https://localhost:8080/"
        },
        "id": "tiPiDF0szTrt",
        "outputId": "6ca835a0-bc61-4217-c5aa-fa9405d29307"
      },
      "execution_count": 95,
      "outputs": [
        {
          "output_type": "stream",
          "name": "stdout",
          "text": [
            "[[4. 0.]\n",
            " [6. 8.]]\n",
            "[[5. 2.]\n",
            " [8. 5.]]\n"
          ]
        }
      ]
    },
    {
      "cell_type": "code",
      "source": [
        "np.vstack((a,b)) #equivalent to row_stack"
      ],
      "metadata": {
        "colab": {
          "base_uri": "https://localhost:8080/"
        },
        "id": "DfKv3kdWztQC",
        "outputId": "21885b5e-2100-479b-8360-290b211f1fcd"
      },
      "execution_count": 96,
      "outputs": [
        {
          "output_type": "execute_result",
          "data": {
            "text/plain": [
              "array([[4., 0.],\n",
              "       [6., 8.],\n",
              "       [5., 2.],\n",
              "       [8., 5.]])"
            ]
          },
          "metadata": {},
          "execution_count": 96
        }
      ]
    },
    {
      "cell_type": "code",
      "source": [
        "np.hstack((a,b))"
      ],
      "metadata": {
        "colab": {
          "base_uri": "https://localhost:8080/"
        },
        "id": "rFyIiqo6zwac",
        "outputId": "913b0d91-0165-4cb5-e2d9-edb89afc73c5"
      },
      "execution_count": 98,
      "outputs": [
        {
          "output_type": "execute_result",
          "data": {
            "text/plain": [
              "array([[4., 0., 5., 2.],\n",
              "       [6., 8., 8., 5.]])"
            ]
          },
          "metadata": {},
          "execution_count": 98
        }
      ]
    },
    {
      "cell_type": "markdown",
      "source": [
        "The function column_stack stacks 1D arrays as columns into a 2D array. It is equivalent to hstack only for 2D arrays:\n",
        "\n",
        "In general, for arrays with more than two dimensions, hstack stacks along their second axes, vstack stacks along their first axes, and concatenate allows for an optional arguments giving the number of the axis along which the concatenation should happen"
      ],
      "metadata": {
        "id": "Kr6ICOoDz5bu"
      }
    },
    {
      "cell_type": "code",
      "source": [
        "from numpy import newaxis\n",
        "a = np.array([4.,2.])\n",
        "b = np.array([3.,8.])\n",
        "np.column_stack((a,b))"
      ],
      "metadata": {
        "colab": {
          "base_uri": "https://localhost:8080/"
        },
        "id": "IAq3irgtzyDX",
        "outputId": "b1c55b2c-4270-4362-80ee-2c753524089e"
      },
      "execution_count": 99,
      "outputs": [
        {
          "output_type": "execute_result",
          "data": {
            "text/plain": [
              "array([[4., 3.],\n",
              "       [2., 8.]])"
            ]
          },
          "metadata": {},
          "execution_count": 99
        }
      ]
    },
    {
      "cell_type": "code",
      "source": [
        "np.hstack((a,b))"
      ],
      "metadata": {
        "colab": {
          "base_uri": "https://localhost:8080/"
        },
        "id": "nFw_9AvJ0A_T",
        "outputId": "dbfe655c-078a-4e97-87c8-eea3be5d4683"
      },
      "execution_count": 100,
      "outputs": [
        {
          "output_type": "execute_result",
          "data": {
            "text/plain": [
              "array([4., 2., 3., 8.])"
            ]
          },
          "metadata": {},
          "execution_count": 100
        }
      ]
    },
    {
      "cell_type": "code",
      "source": [
        "a[:,newaxis] #view a as a 2D column vector"
      ],
      "metadata": {
        "colab": {
          "base_uri": "https://localhost:8080/"
        },
        "id": "GDn2skX20Ibh",
        "outputId": "c800fb5f-6dbd-4f19-ca53-228fce7d2bb5"
      },
      "execution_count": 101,
      "outputs": [
        {
          "output_type": "execute_result",
          "data": {
            "text/plain": [
              "array([[4.],\n",
              "       [2.]])"
            ]
          },
          "metadata": {},
          "execution_count": 101
        }
      ]
    },
    {
      "cell_type": "code",
      "source": [
        "np.column_stack((a[:,newaxis],b[:,newaxis]))"
      ],
      "metadata": {
        "colab": {
          "base_uri": "https://localhost:8080/"
        },
        "id": "dwwtbxPo0P48",
        "outputId": "9031931d-7ba4-4a5d-89cc-cf5ee3298863"
      },
      "execution_count": 102,
      "outputs": [
        {
          "output_type": "execute_result",
          "data": {
            "text/plain": [
              "array([[4., 3.],\n",
              "       [2., 8.]])"
            ]
          },
          "metadata": {},
          "execution_count": 102
        }
      ]
    },
    {
      "cell_type": "code",
      "source": [
        "np.hstack((a[:,newaxis],b[:,newaxis])) #same result as above"
      ],
      "metadata": {
        "colab": {
          "base_uri": "https://localhost:8080/"
        },
        "id": "_AJfnybR0WZD",
        "outputId": "0bf896e2-7b72-44e2-f288-dc7b2837b3f5"
      },
      "execution_count": 103,
      "outputs": [
        {
          "output_type": "execute_result",
          "data": {
            "text/plain": [
              "array([[4., 3.],\n",
              "       [2., 8.]])"
            ]
          },
          "metadata": {},
          "execution_count": 103
        }
      ]
    },
    {
      "cell_type": "code",
      "source": [
        "np.column_stack is np.hstack"
      ],
      "metadata": {
        "colab": {
          "base_uri": "https://localhost:8080/"
        },
        "id": "-0wtHk4C0e5G",
        "outputId": "26c1fa13-9e4c-490c-8209-1c7dae78c1e4"
      },
      "execution_count": 104,
      "outputs": [
        {
          "output_type": "execute_result",
          "data": {
            "text/plain": [
              "False"
            ]
          },
          "metadata": {},
          "execution_count": 104
        }
      ]
    },
    {
      "cell_type": "code",
      "source": [
        "np.row_stack is np.vstack"
      ],
      "metadata": {
        "colab": {
          "base_uri": "https://localhost:8080/"
        },
        "id": "lg9h4ASj01qx",
        "outputId": "cc5829eb-f18d-4a20-d11e-3c273545b328"
      },
      "execution_count": 105,
      "outputs": [
        {
          "output_type": "execute_result",
          "data": {
            "text/plain": [
              "True"
            ]
          },
          "metadata": {},
          "execution_count": 105
        }
      ]
    },
    {
      "cell_type": "markdown",
      "source": [
        "In complex cases, r_ and c_ are useful for creating arrays by stacking numbers along one axis. They allow the use of range literals :."
      ],
      "metadata": {
        "id": "uFZaFqpH1GHd"
      }
    },
    {
      "cell_type": "code",
      "source": [
        "np.r_[1:4,0,4]"
      ],
      "metadata": {
        "colab": {
          "base_uri": "https://localhost:8080/"
        },
        "id": "LaRUzgkT03tP",
        "outputId": "be9a3449-f6e6-448c-aced-f55ab01ebbe8"
      },
      "execution_count": 106,
      "outputs": [
        {
          "output_type": "execute_result",
          "data": {
            "text/plain": [
              "array([1, 2, 3, 0, 4])"
            ]
          },
          "metadata": {},
          "execution_count": 106
        }
      ]
    },
    {
      "cell_type": "markdown",
      "source": [
        "## Splitting one array into several smaller ones\n",
        "\n",
        "Using hsplit, you can split an array along its horizontal axis, either by specifying the number of equally shaped arrays to return, or by specifying the columns after which the division should occur:"
      ],
      "metadata": {
        "id": "OH1fAF_z1M8R"
      }
    },
    {
      "cell_type": "code",
      "source": [
        "a = np.floor(10 * rg.random((2,12)))\n",
        "print(a)"
      ],
      "metadata": {
        "colab": {
          "base_uri": "https://localhost:8080/"
        },
        "id": "gqKMTXwY1KTv",
        "outputId": "8c98e7e6-53c8-4746-e796-7c1685ff6532"
      },
      "execution_count": 107,
      "outputs": [
        {
          "output_type": "stream",
          "name": "stdout",
          "text": [
            "[[5. 7. 1. 8. 6. 7. 1. 8. 1. 0. 8. 8.]\n",
            " [8. 4. 2. 0. 6. 7. 8. 2. 2. 6. 8. 9.]]\n"
          ]
        }
      ]
    },
    {
      "cell_type": "code",
      "source": [
        "np.hsplit(a,3)"
      ],
      "metadata": {
        "colab": {
          "base_uri": "https://localhost:8080/"
        },
        "id": "YRGMNFpx1VYB",
        "outputId": "9f79518c-d857-492c-a41f-85a4badbdefe"
      },
      "execution_count": 108,
      "outputs": [
        {
          "output_type": "execute_result",
          "data": {
            "text/plain": [
              "[array([[5., 7., 1., 8.],\n",
              "        [8., 4., 2., 0.]]),\n",
              " array([[6., 7., 1., 8.],\n",
              "        [6., 7., 8., 2.]]),\n",
              " array([[1., 0., 8., 8.],\n",
              "        [2., 6., 8., 9.]])]"
            ]
          },
          "metadata": {},
          "execution_count": 108
        }
      ]
    },
    {
      "cell_type": "code",
      "source": [
        "np.hsplit(a,(3,4)) #split a after the third and 4th column"
      ],
      "metadata": {
        "colab": {
          "base_uri": "https://localhost:8080/"
        },
        "id": "8RCPFeV81Xxi",
        "outputId": "45bdd9ca-3d50-4cc9-a9f7-d5733491f5fd"
      },
      "execution_count": 110,
      "outputs": [
        {
          "output_type": "execute_result",
          "data": {
            "text/plain": [
              "[array([[5., 7., 1.],\n",
              "        [8., 4., 2.]]),\n",
              " array([[8.],\n",
              "        [0.]]),\n",
              " array([[6., 7., 1., 8., 1., 0., 8., 8.],\n",
              "        [6., 7., 8., 2., 2., 6., 8., 9.]])]"
            ]
          },
          "metadata": {},
          "execution_count": 110
        }
      ]
    },
    {
      "cell_type": "code",
      "source": [],
      "metadata": {
        "id": "ddUVgow61e5z"
      },
      "execution_count": null,
      "outputs": []
    }
  ]
}